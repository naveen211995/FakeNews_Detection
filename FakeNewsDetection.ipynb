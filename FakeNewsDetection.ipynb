{
  "nbformat": 4,
  "nbformat_minor": 0,
  "metadata": {
    "colab": {
      "name": "1_FakeNewsDetection.ipynb",
      "provenance": [],
      "collapsed_sections": []
    },
    "kernelspec": {
      "name": "python3",
      "display_name": "Python 3"
    },
    "accelerator": "GPU"
  },
  "cells": [
    {
      "cell_type": "code",
      "metadata": {
        "id": "ZKyMRoAW2f88",
        "colab_type": "code",
        "colab": {}
      },
      "source": [
        "# !wget 'https://www.dropbox.com/s/d49goxjvju20n1m/train.csv'"
      ],
      "execution_count": 0,
      "outputs": []
    },
    {
      "cell_type": "code",
      "metadata": {
        "id": "QCyiqZrk3kCf",
        "colab_type": "code",
        "colab": {}
      },
      "source": [
        "#Importing required packages\n",
        "import numpy as np\n",
        "import pandas as pd"
      ],
      "execution_count": 0,
      "outputs": []
    },
    {
      "cell_type": "code",
      "metadata": {
        "id": "bfCla1aq3bj0",
        "colab_type": "code",
        "colab": {}
      },
      "source": [
        "train_file= pd.read_csv('/content/train.csv')  #Reading the data"
      ],
      "execution_count": 0,
      "outputs": []
    },
    {
      "cell_type": "code",
      "metadata": {
        "id": "pm7b8ofw3idv",
        "colab_type": "code",
        "colab": {
          "base_uri": "https://localhost:8080/",
          "height": 206
        },
        "outputId": "ffc1f5dc-7d4c-4c96-f7bc-a2365524e505"
      },
      "source": [
        "train_file.head()"
      ],
      "execution_count": 4,
      "outputs": [
        {
          "output_type": "execute_result",
          "data": {
            "text/html": [
              "<div>\n",
              "<style scoped>\n",
              "    .dataframe tbody tr th:only-of-type {\n",
              "        vertical-align: middle;\n",
              "    }\n",
              "\n",
              "    .dataframe tbody tr th {\n",
              "        vertical-align: top;\n",
              "    }\n",
              "\n",
              "    .dataframe thead th {\n",
              "        text-align: right;\n",
              "    }\n",
              "</style>\n",
              "<table border=\"1\" class=\"dataframe\">\n",
              "  <thead>\n",
              "    <tr style=\"text-align: right;\">\n",
              "      <th></th>\n",
              "      <th>id</th>\n",
              "      <th>title</th>\n",
              "      <th>author</th>\n",
              "      <th>text</th>\n",
              "      <th>label</th>\n",
              "    </tr>\n",
              "  </thead>\n",
              "  <tbody>\n",
              "    <tr>\n",
              "      <th>0</th>\n",
              "      <td>0</td>\n",
              "      <td>House Dem Aide: We Didn’t Even See Comey’s Let...</td>\n",
              "      <td>Darrell Lucus</td>\n",
              "      <td>House Dem Aide: We Didn’t Even See Comey’s Let...</td>\n",
              "      <td>1</td>\n",
              "    </tr>\n",
              "    <tr>\n",
              "      <th>1</th>\n",
              "      <td>1</td>\n",
              "      <td>FLYNN: Hillary Clinton, Big Woman on Campus - ...</td>\n",
              "      <td>Daniel J. Flynn</td>\n",
              "      <td>Ever get the feeling your life circles the rou...</td>\n",
              "      <td>0</td>\n",
              "    </tr>\n",
              "    <tr>\n",
              "      <th>2</th>\n",
              "      <td>2</td>\n",
              "      <td>Why the Truth Might Get You Fired</td>\n",
              "      <td>Consortiumnews.com</td>\n",
              "      <td>Why the Truth Might Get You Fired October 29, ...</td>\n",
              "      <td>1</td>\n",
              "    </tr>\n",
              "    <tr>\n",
              "      <th>3</th>\n",
              "      <td>3</td>\n",
              "      <td>15 Civilians Killed In Single US Airstrike Hav...</td>\n",
              "      <td>Jessica Purkiss</td>\n",
              "      <td>Videos 15 Civilians Killed In Single US Airstr...</td>\n",
              "      <td>1</td>\n",
              "    </tr>\n",
              "    <tr>\n",
              "      <th>4</th>\n",
              "      <td>4</td>\n",
              "      <td>Iranian woman jailed for fictional unpublished...</td>\n",
              "      <td>Howard Portnoy</td>\n",
              "      <td>Print \\nAn Iranian woman has been sentenced to...</td>\n",
              "      <td>1</td>\n",
              "    </tr>\n",
              "  </tbody>\n",
              "</table>\n",
              "</div>"
            ],
            "text/plain": [
              "   id  ... label\n",
              "0   0  ...     1\n",
              "1   1  ...     0\n",
              "2   2  ...     1\n",
              "3   3  ...     1\n",
              "4   4  ...     1\n",
              "\n",
              "[5 rows x 5 columns]"
            ]
          },
          "metadata": {
            "tags": []
          },
          "execution_count": 4
        }
      ]
    },
    {
      "cell_type": "code",
      "metadata": {
        "id": "BKKLDqoa4Nj9",
        "colab_type": "code",
        "colab": {
          "base_uri": "https://localhost:8080/",
          "height": 35
        },
        "outputId": "92264db0-7d09-4d7b-89c5-119495a496b7"
      },
      "source": [
        "train_file.shape"
      ],
      "execution_count": 5,
      "outputs": [
        {
          "output_type": "execute_result",
          "data": {
            "text/plain": [
              "(20800, 5)"
            ]
          },
          "metadata": {
            "tags": []
          },
          "execution_count": 5
        }
      ]
    },
    {
      "cell_type": "code",
      "metadata": {
        "id": "pJh5n7Dx4B1_",
        "colab_type": "code",
        "colab": {}
      },
      "source": [
        "#Lets drop NA values...\n",
        "train_file= train_file.dropna()"
      ],
      "execution_count": 0,
      "outputs": []
    },
    {
      "cell_type": "code",
      "metadata": {
        "id": "ZhNhMEIP4P-V",
        "colab_type": "code",
        "colab": {
          "base_uri": "https://localhost:8080/",
          "height": 35
        },
        "outputId": "39a15c13-621c-4e92-fcee-3beecae95aac"
      },
      "source": [
        "train_file.shape"
      ],
      "execution_count": 7,
      "outputs": [
        {
          "output_type": "execute_result",
          "data": {
            "text/plain": [
              "(18285, 5)"
            ]
          },
          "metadata": {
            "tags": []
          },
          "execution_count": 7
        }
      ]
    },
    {
      "cell_type": "code",
      "metadata": {
        "id": "DZkC75y43pxu",
        "colab_type": "code",
        "colab": {}
      },
      "source": [
        "X= train_file.drop('label', axis=1)\n",
        "Y= train_file['label']"
      ],
      "execution_count": 0,
      "outputs": []
    },
    {
      "cell_type": "code",
      "metadata": {
        "id": "hNsgsgjH4Anw",
        "colab_type": "code",
        "colab": {
          "base_uri": "https://localhost:8080/",
          "height": 206
        },
        "outputId": "1ed1a74f-aa54-4af7-eb04-b372a7322296"
      },
      "source": [
        "X.head()"
      ],
      "execution_count": 9,
      "outputs": [
        {
          "output_type": "execute_result",
          "data": {
            "text/html": [
              "<div>\n",
              "<style scoped>\n",
              "    .dataframe tbody tr th:only-of-type {\n",
              "        vertical-align: middle;\n",
              "    }\n",
              "\n",
              "    .dataframe tbody tr th {\n",
              "        vertical-align: top;\n",
              "    }\n",
              "\n",
              "    .dataframe thead th {\n",
              "        text-align: right;\n",
              "    }\n",
              "</style>\n",
              "<table border=\"1\" class=\"dataframe\">\n",
              "  <thead>\n",
              "    <tr style=\"text-align: right;\">\n",
              "      <th></th>\n",
              "      <th>id</th>\n",
              "      <th>title</th>\n",
              "      <th>author</th>\n",
              "      <th>text</th>\n",
              "    </tr>\n",
              "  </thead>\n",
              "  <tbody>\n",
              "    <tr>\n",
              "      <th>0</th>\n",
              "      <td>0</td>\n",
              "      <td>House Dem Aide: We Didn’t Even See Comey’s Let...</td>\n",
              "      <td>Darrell Lucus</td>\n",
              "      <td>House Dem Aide: We Didn’t Even See Comey’s Let...</td>\n",
              "    </tr>\n",
              "    <tr>\n",
              "      <th>1</th>\n",
              "      <td>1</td>\n",
              "      <td>FLYNN: Hillary Clinton, Big Woman on Campus - ...</td>\n",
              "      <td>Daniel J. Flynn</td>\n",
              "      <td>Ever get the feeling your life circles the rou...</td>\n",
              "    </tr>\n",
              "    <tr>\n",
              "      <th>2</th>\n",
              "      <td>2</td>\n",
              "      <td>Why the Truth Might Get You Fired</td>\n",
              "      <td>Consortiumnews.com</td>\n",
              "      <td>Why the Truth Might Get You Fired October 29, ...</td>\n",
              "    </tr>\n",
              "    <tr>\n",
              "      <th>3</th>\n",
              "      <td>3</td>\n",
              "      <td>15 Civilians Killed In Single US Airstrike Hav...</td>\n",
              "      <td>Jessica Purkiss</td>\n",
              "      <td>Videos 15 Civilians Killed In Single US Airstr...</td>\n",
              "    </tr>\n",
              "    <tr>\n",
              "      <th>4</th>\n",
              "      <td>4</td>\n",
              "      <td>Iranian woman jailed for fictional unpublished...</td>\n",
              "      <td>Howard Portnoy</td>\n",
              "      <td>Print \\nAn Iranian woman has been sentenced to...</td>\n",
              "    </tr>\n",
              "  </tbody>\n",
              "</table>\n",
              "</div>"
            ],
            "text/plain": [
              "   id  ...                                               text\n",
              "0   0  ...  House Dem Aide: We Didn’t Even See Comey’s Let...\n",
              "1   1  ...  Ever get the feeling your life circles the rou...\n",
              "2   2  ...  Why the Truth Might Get You Fired October 29, ...\n",
              "3   3  ...  Videos 15 Civilians Killed In Single US Airstr...\n",
              "4   4  ...  Print \\nAn Iranian woman has been sentenced to...\n",
              "\n",
              "[5 rows x 4 columns]"
            ]
          },
          "metadata": {
            "tags": []
          },
          "execution_count": 9
        }
      ]
    },
    {
      "cell_type": "markdown",
      "metadata": {
        "id": "p_Uq-NFi3slj",
        "colab_type": "text"
      },
      "source": [
        "**Here we will consider only one independent column 'title' to predict our Target variable 'label', Hence lets clean our independent variable 'title'**"
      ]
    },
    {
      "cell_type": "code",
      "metadata": {
        "id": "qWXRGDQV4cCB",
        "colab_type": "code",
        "colab": {}
      },
      "source": [
        "messages= X.copy()   #Making a copy of our data."
      ],
      "execution_count": 0,
      "outputs": []
    },
    {
      "cell_type": "code",
      "metadata": {
        "id": "moe_inWS41C3",
        "colab_type": "code",
        "colab": {
          "base_uri": "https://localhost:8080/",
          "height": 35
        },
        "outputId": "b411c6f9-5277-418a-c3f2-4a5672a51ae8"
      },
      "source": [
        "messages['title'][0]"
      ],
      "execution_count": 11,
      "outputs": [
        {
          "output_type": "execute_result",
          "data": {
            "text/plain": [
              "'House Dem Aide: We Didn’t Even See Comey’s Letter Until Jason Chaffetz Tweeted It'"
            ]
          },
          "metadata": {
            "tags": []
          },
          "execution_count": 11
        }
      ]
    },
    {
      "cell_type": "code",
      "metadata": {
        "id": "OKfBrcbe42sJ",
        "colab_type": "code",
        "colab": {}
      },
      "source": [
        "messages.reset_index(inplace=True)   #Resetting the index as we have dropped NA observations earlier."
      ],
      "execution_count": 0,
      "outputs": []
    },
    {
      "cell_type": "code",
      "metadata": {
        "id": "tgvXTXEm5EIb",
        "colab_type": "code",
        "colab": {}
      },
      "source": [
        "#Importing required packages\n",
        "from nltk import  word_tokenize\n",
        "from nltk.corpus import stopwords\n",
        "from nltk.stem.porter import PorterStemmer\n",
        "import nltk\n",
        "import re\n",
        "\n",
        "#nltk.download('stopwords')\n",
        "#nltk.download('punkt')"
      ],
      "execution_count": 0,
      "outputs": []
    },
    {
      "cell_type": "code",
      "metadata": {
        "id": "YwPDjF4w9JJC",
        "colab_type": "code",
        "colab": {}
      },
      "source": [
        "#Removing all the unneccessary characters and keeping only alphabets in the title column. And also removing stopwords\n",
        "ps = PorterStemmer()\n",
        "corpus = []\n",
        "for i in range(0, len(messages)):\n",
        "    review = re.sub('[^a-zA-Z]', ' ', messages['title'][i])\n",
        "    review= ' '.join([ps.stem(word) for word in review.lower().split() if word not in stopwords.words('english')])\n",
        "    corpus.append(review)"
      ],
      "execution_count": 0,
      "outputs": []
    },
    {
      "cell_type": "code",
      "metadata": {
        "id": "GubhQJPm_AGh",
        "colab_type": "code",
        "colab": {}
      },
      "source": [
        "#corpus"
      ],
      "execution_count": 0,
      "outputs": []
    },
    {
      "cell_type": "code",
      "metadata": {
        "id": "5f3srkpE_l_Y",
        "colab_type": "code",
        "colab": {}
      },
      "source": [
        "#Lets find teh length of each row.\n",
        "sent_lens=[]\n",
        "for sent in corpus:\n",
        "  sent_lens.append(len(word_tokenize(sent)))"
      ],
      "execution_count": 0,
      "outputs": []
    },
    {
      "cell_type": "code",
      "metadata": {
        "id": "PzFqzeoIANao",
        "colab_type": "code",
        "colab": {
          "base_uri": "https://localhost:8080/",
          "height": 35
        },
        "outputId": "12bd9fa3-b4e1-4571-f212-cfdd13823128"
      },
      "source": [
        "max(sent_lens)  #We see that max length of all the rows is "
      ],
      "execution_count": 17,
      "outputs": [
        {
          "output_type": "execute_result",
          "data": {
            "text/plain": [
              "47"
            ]
          },
          "metadata": {
            "tags": []
          },
          "execution_count": 17
        }
      ]
    },
    {
      "cell_type": "code",
      "metadata": {
        "id": "d_UwMZuHAYV2",
        "colab_type": "code",
        "colab": {
          "base_uri": "https://localhost:8080/",
          "height": 35
        },
        "outputId": "b73fd498-b71c-4260-a112-bf8eb940ddd4"
      },
      "source": [
        "np.quantile(sent_lens,0.98)"
      ],
      "execution_count": 18,
      "outputs": [
        {
          "output_type": "execute_result",
          "data": {
            "text/plain": [
              "14.0"
            ]
          },
          "metadata": {
            "tags": []
          },
          "execution_count": 18
        }
      ]
    },
    {
      "cell_type": "markdown",
      "metadata": {
        "id": "bg5PVTd1AkYO",
        "colab_type": "text"
      },
      "source": [
        "**Here we can see that 98% of the reviews have a length of 14. Hence, we would be taking max length as 14**"
      ]
    },
    {
      "cell_type": "code",
      "metadata": {
        "id": "vKeczdC8BBby",
        "colab_type": "code",
        "colab": {}
      },
      "source": [
        "#Importing required packages...\n",
        "import tensorflow as tf\n",
        "from tensorflow.keras.preprocessing.text import Tokenizer\n",
        "from tensorflow.keras.preprocessing import sequence\n",
        "from tensorflow.keras.layers import LSTM, Activation, Dense, Dropout, Input, Embedding\n",
        "from tensorflow.keras.models import Sequential\n",
        "\n",
        "from sklearn.model_selection import train_test_split"
      ],
      "execution_count": 0,
      "outputs": []
    },
    {
      "cell_type": "code",
      "metadata": {
        "id": "RF7yVQMWAdA9",
        "colab_type": "code",
        "colab": {}
      },
      "source": [
        "max_len=14\n",
        "tok= Tokenizer(char_level=False, split=' ')     \n",
        "tok.fit_on_texts(corpus)                           #Converting the sentences to words using Tokenizer\n",
        "sequences_corpus= tok.texts_to_sequences(corpus)   "
      ],
      "execution_count": 0,
      "outputs": []
    },
    {
      "cell_type": "code",
      "metadata": {
        "id": "lNh0-ohRCLF7",
        "colab_type": "code",
        "colab": {
          "base_uri": "https://localhost:8080/",
          "height": 35
        },
        "outputId": "eeb2a538-2e0e-44a9-a76d-4350264092be"
      },
      "source": [
        "vocab_len= len(tok.index_word.keys())\n",
        "vocab_len                                          # Here we see that after tokenizing the max length of the vocabularies is 13931 "
      ],
      "execution_count": 21,
      "outputs": [
        {
          "output_type": "execute_result",
          "data": {
            "text/plain": [
              "13931"
            ]
          },
          "metadata": {
            "tags": []
          },
          "execution_count": 21
        }
      ]
    },
    {
      "cell_type": "code",
      "metadata": {
        "id": "mbsq80LYCRhl",
        "colab_type": "code",
        "colab": {}
      },
      "source": [
        "sequences_matrix_corpus= sequence.pad_sequences(sequences_corpus, maxlen=max_len)  #We would be padding the sequences after length of 14"
      ],
      "execution_count": 0,
      "outputs": []
    },
    {
      "cell_type": "code",
      "metadata": {
        "id": "mycH6SMeC6SU",
        "colab_type": "code",
        "colab": {
          "base_uri": "https://localhost:8080/",
          "height": 144
        },
        "outputId": "0a615160-0bc6-422d-de96-12b516a0f455"
      },
      "source": [
        "sequences_matrix_corpus"
      ],
      "execution_count": 23,
      "outputs": [
        {
          "output_type": "execute_result",
          "data": {
            "text/plain": [
              "array([[   0,    0,    0, ..., 1775, 3009,  420],\n",
              "       [   0,    0,    0, ...,  150, 1090,    5],\n",
              "       [   0,    0,    0, ...,  856,   33,   83],\n",
              "       ...,\n",
              "       [   0,    0,    0, ...,    1,    3,    2],\n",
              "       [   0,    0,    0, ..., 4196, 2465, 5024],\n",
              "       [   0,    0,    0, ...,  197,  137, 1455]], dtype=int32)"
            ]
          },
          "metadata": {
            "tags": []
          },
          "execution_count": 23
        }
      ]
    },
    {
      "cell_type": "code",
      "metadata": {
        "id": "FF1YUp3SC7kE",
        "colab_type": "code",
        "colab": {
          "base_uri": "https://localhost:8080/",
          "height": 35
        },
        "outputId": "8c77c8a8-680c-4db6-c126-10c6f4e4f67c"
      },
      "source": [
        "sequences_matrix_corpus.shape, Y.shape"
      ],
      "execution_count": 24,
      "outputs": [
        {
          "output_type": "execute_result",
          "data": {
            "text/plain": [
              "((18285, 14), (18285,))"
            ]
          },
          "metadata": {
            "tags": []
          },
          "execution_count": 24
        }
      ]
    },
    {
      "cell_type": "code",
      "metadata": {
        "id": "zLCRA-9TF14I",
        "colab_type": "code",
        "colab": {}
      },
      "source": [
        "X_Final= sequences_matrix_corpus\n",
        "Y_Final= Y"
      ],
      "execution_count": 0,
      "outputs": []
    },
    {
      "cell_type": "code",
      "metadata": {
        "id": "hqlWQnO-F15h",
        "colab_type": "code",
        "colab": {
          "base_uri": "https://localhost:8080/",
          "height": 35
        },
        "outputId": "6cd9809a-312c-42e0-80d7-93b746602560"
      },
      "source": [
        "X_Final.shape, Y_Final.shape"
      ],
      "execution_count": 26,
      "outputs": [
        {
          "output_type": "execute_result",
          "data": {
            "text/plain": [
              "((18285, 14), (18285,))"
            ]
          },
          "metadata": {
            "tags": []
          },
          "execution_count": 26
        }
      ]
    },
    {
      "cell_type": "markdown",
      "metadata": {
        "id": "UmGkxHr7DJpW",
        "colab_type": "text"
      },
      "source": [
        "**Creating Model**"
      ]
    },
    {
      "cell_type": "code",
      "metadata": {
        "id": "IGTjlRFeDBF-",
        "colab_type": "code",
        "colab": {
          "base_uri": "https://localhost:8080/",
          "height": 344
        },
        "outputId": "53a17842-de96-4558-b792-f29cd64f135c"
      },
      "source": [
        "model= Sequential()\n",
        "model.add(Embedding(vocab_len+1, 300, input_length=max_len))\n",
        "model.add(Dropout(0.2))\n",
        "model.add(LSTM(150))\n",
        "model.add(Dropout(0.2))\n",
        "model.add(Dense(1, activation='sigmoid'))\n",
        "model.compile(loss='binary_crossentropy', optimizer='adam', metrics=['accuracy'])\n",
        "\n",
        "model.summary()"
      ],
      "execution_count": 27,
      "outputs": [
        {
          "output_type": "stream",
          "text": [
            "Model: \"sequential\"\n",
            "_________________________________________________________________\n",
            "Layer (type)                 Output Shape              Param #   \n",
            "=================================================================\n",
            "embedding (Embedding)        (None, 14, 300)           4179600   \n",
            "_________________________________________________________________\n",
            "dropout (Dropout)            (None, 14, 300)           0         \n",
            "_________________________________________________________________\n",
            "lstm (LSTM)                  (None, 150)               270600    \n",
            "_________________________________________________________________\n",
            "dropout_1 (Dropout)          (None, 150)               0         \n",
            "_________________________________________________________________\n",
            "dense (Dense)                (None, 1)                 151       \n",
            "=================================================================\n",
            "Total params: 4,450,351\n",
            "Trainable params: 4,450,351\n",
            "Non-trainable params: 0\n",
            "_________________________________________________________________\n"
          ],
          "name": "stdout"
        }
      ]
    },
    {
      "cell_type": "markdown",
      "metadata": {
        "id": "arHfWLSzFwys",
        "colab_type": "text"
      },
      "source": [
        "**Splitting the data into Train and Test**"
      ]
    },
    {
      "cell_type": "code",
      "metadata": {
        "id": "bc9Fn7FIF1-s",
        "colab_type": "code",
        "colab": {}
      },
      "source": [
        "X_train, X_test, Y_train, Y_test= train_test_split(X_Final, Y_Final, test_size=0.2, stratify=Y_Final, random_state=100)"
      ],
      "execution_count": 0,
      "outputs": []
    },
    {
      "cell_type": "code",
      "metadata": {
        "id": "QlwbJXmMHNPg",
        "colab_type": "code",
        "colab": {
          "base_uri": "https://localhost:8080/",
          "height": 762
        },
        "outputId": "791db703-f1cb-4138-e6b4-4cbdf2637865"
      },
      "source": [
        "model.fit(X_train, Y_train, validation_data=(X_test, Y_test), epochs=20, batch_size=200)"
      ],
      "execution_count": 31,
      "outputs": [
        {
          "output_type": "stream",
          "text": [
            "Epoch 1/20\n",
            "74/74 [==============================] - 4s 60ms/step - loss: 5.8970e-04 - accuracy: 0.9999 - val_loss: 0.5428 - val_accuracy: 0.9215\n",
            "Epoch 2/20\n",
            "74/74 [==============================] - 4s 60ms/step - loss: 1.1275e-04 - accuracy: 1.0000 - val_loss: 0.5560 - val_accuracy: 0.9221\n",
            "Epoch 3/20\n",
            "74/74 [==============================] - 4s 60ms/step - loss: 6.9191e-05 - accuracy: 1.0000 - val_loss: 0.5760 - val_accuracy: 0.9229\n",
            "Epoch 4/20\n",
            "74/74 [==============================] - 4s 59ms/step - loss: 5.6274e-05 - accuracy: 1.0000 - val_loss: 0.5869 - val_accuracy: 0.9218\n",
            "Epoch 5/20\n",
            "74/74 [==============================] - 4s 60ms/step - loss: 4.5351e-05 - accuracy: 1.0000 - val_loss: 0.5964 - val_accuracy: 0.9221\n",
            "Epoch 6/20\n",
            "74/74 [==============================] - 4s 59ms/step - loss: 3.8435e-05 - accuracy: 1.0000 - val_loss: 0.6051 - val_accuracy: 0.9223\n",
            "Epoch 7/20\n",
            "74/74 [==============================] - 4s 58ms/step - loss: 3.4696e-05 - accuracy: 1.0000 - val_loss: 0.6142 - val_accuracy: 0.9226\n",
            "Epoch 8/20\n",
            "74/74 [==============================] - 4s 58ms/step - loss: 3.0567e-05 - accuracy: 1.0000 - val_loss: 0.6183 - val_accuracy: 0.9223\n",
            "Epoch 9/20\n",
            "74/74 [==============================] - 4s 60ms/step - loss: 2.5417e-05 - accuracy: 1.0000 - val_loss: 0.6282 - val_accuracy: 0.9226\n",
            "Epoch 10/20\n",
            "74/74 [==============================] - 4s 60ms/step - loss: 2.2039e-05 - accuracy: 1.0000 - val_loss: 0.6362 - val_accuracy: 0.9226\n",
            "Epoch 11/20\n",
            "74/74 [==============================] - 4s 60ms/step - loss: 2.1771e-05 - accuracy: 1.0000 - val_loss: 0.6411 - val_accuracy: 0.9226\n",
            "Epoch 12/20\n",
            "74/74 [==============================] - 4s 60ms/step - loss: 2.0501e-05 - accuracy: 1.0000 - val_loss: 0.6444 - val_accuracy: 0.9221\n",
            "Epoch 13/20\n",
            "74/74 [==============================] - 4s 59ms/step - loss: 1.6571e-05 - accuracy: 1.0000 - val_loss: 0.6491 - val_accuracy: 0.9221\n",
            "Epoch 14/20\n",
            "74/74 [==============================] - 4s 60ms/step - loss: 1.7203e-05 - accuracy: 1.0000 - val_loss: 0.6524 - val_accuracy: 0.9215\n",
            "Epoch 15/20\n",
            "74/74 [==============================] - 4s 60ms/step - loss: 1.5351e-05 - accuracy: 1.0000 - val_loss: 0.6593 - val_accuracy: 0.9223\n",
            "Epoch 16/20\n",
            "74/74 [==============================] - 4s 60ms/step - loss: 1.4803e-05 - accuracy: 1.0000 - val_loss: 0.6646 - val_accuracy: 0.9223\n",
            "Epoch 17/20\n",
            "74/74 [==============================] - 4s 59ms/step - loss: 1.3056e-05 - accuracy: 1.0000 - val_loss: 0.6713 - val_accuracy: 0.9226\n",
            "Epoch 18/20\n",
            "74/74 [==============================] - 4s 60ms/step - loss: 1.0389e-05 - accuracy: 1.0000 - val_loss: 0.6762 - val_accuracy: 0.9223\n",
            "Epoch 19/20\n",
            "74/74 [==============================] - 4s 60ms/step - loss: 1.1094e-05 - accuracy: 1.0000 - val_loss: 0.6770 - val_accuracy: 0.9215\n",
            "Epoch 20/20\n",
            "74/74 [==============================] - 4s 60ms/step - loss: 9.9606e-06 - accuracy: 1.0000 - val_loss: 0.6807 - val_accuracy: 0.9229\n"
          ],
          "name": "stdout"
        },
        {
          "output_type": "execute_result",
          "data": {
            "text/plain": [
              "<tensorflow.python.keras.callbacks.History at 0x7f36119cfa20>"
            ]
          },
          "metadata": {
            "tags": []
          },
          "execution_count": 31
        }
      ]
    },
    {
      "cell_type": "markdown",
      "metadata": {
        "id": "pl0LjqTmFkHg",
        "colab_type": "text"
      },
      "source": [
        "**Performancd Metrics and Accuracy**"
      ]
    },
    {
      "cell_type": "code",
      "metadata": {
        "id": "V0zitWF2FUVy",
        "colab_type": "code",
        "colab": {
          "base_uri": "https://localhost:8080/",
          "height": 92
        },
        "outputId": "fc55e367-7ab6-4343-f717-21fce9cbd11d"
      },
      "source": [
        "Y_pred= model.predict_classes(X_test)"
      ],
      "execution_count": 32,
      "outputs": [
        {
          "output_type": "stream",
          "text": [
            "WARNING:tensorflow:From <ipython-input-32-2c20940ea7eb>:1: Sequential.predict_classes (from tensorflow.python.keras.engine.sequential) is deprecated and will be removed after 2021-01-01.\n",
            "Instructions for updating:\n",
            "Please use instead:* `np.argmax(model.predict(x), axis=-1)`,   if your model does multi-class classification   (e.g. if it uses a `softmax` last-layer activation).* `(model.predict(x) > 0.5).astype(\"int32\")`,   if your model does binary classification   (e.g. if it uses a `sigmoid` last-layer activation).\n"
          ],
          "name": "stdout"
        }
      ]
    },
    {
      "cell_type": "code",
      "metadata": {
        "id": "lA2m7YHuIz0Q",
        "colab_type": "code",
        "colab": {}
      },
      "source": [
        "#Importing required packages...\n",
        "from sklearn.metrics import confusion_matrix, accuracy_score, roc_auc_score"
      ],
      "execution_count": 0,
      "outputs": []
    },
    {
      "cell_type": "code",
      "metadata": {
        "id": "zAdWMPcuJCLM",
        "colab_type": "code",
        "colab": {
          "base_uri": "https://localhost:8080/",
          "height": 53
        },
        "outputId": "5a73277c-4cdc-4788-803f-88bc90f9eae2"
      },
      "source": [
        "confusion_matrix(Y_test, Y_pred)"
      ],
      "execution_count": 34,
      "outputs": [
        {
          "output_type": "execute_result",
          "data": {
            "text/plain": [
              "array([[1914,  158],\n",
              "       [ 124, 1461]])"
            ]
          },
          "metadata": {
            "tags": []
          },
          "execution_count": 34
        }
      ]
    },
    {
      "cell_type": "code",
      "metadata": {
        "id": "xJT1qxJlJExK",
        "colab_type": "code",
        "colab": {
          "base_uri": "https://localhost:8080/",
          "height": 35
        },
        "outputId": "b7cc4420-01aa-4ba8-bcee-07947be3be42"
      },
      "source": [
        "accuracy_score(Y_test, Y_pred), roc_auc_score(Y_test, Y_pred)"
      ],
      "execution_count": 35,
      "outputs": [
        {
          "output_type": "execute_result",
          "data": {
            "text/plain": [
              "(0.9228876127973749, 0.9227558676296845)"
            ]
          },
          "metadata": {
            "tags": []
          },
          "execution_count": 35
        }
      ]
    }
  ]
}